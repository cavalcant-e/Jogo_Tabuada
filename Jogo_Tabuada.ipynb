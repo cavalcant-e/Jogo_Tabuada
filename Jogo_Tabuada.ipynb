{
  "nbformat": 4,
  "nbformat_minor": 0,
  "metadata": {
    "colab": {
      "provenance": [],
      "authorship_tag": "ABX9TyPLwtl3x6OoN1xCIRASLldC",
      "include_colab_link": true
    },
    "kernelspec": {
      "name": "python3",
      "display_name": "Python 3"
    },
    "language_info": {
      "name": "python"
    }
  },
  "cells": [
    {
      "cell_type": "markdown",
      "metadata": {
        "id": "view-in-github",
        "colab_type": "text"
      },
      "source": [
        "<a href=\"https://colab.research.google.com/github/cavalcant-e/Jogo_Tabuada/blob/main/Jogo_Tabuada.ipynb\" target=\"_parent\"><img src=\"https://colab.research.google.com/assets/colab-badge.svg\" alt=\"Open In Colab\"/></a>"
      ]
    },
    {
      "cell_type": "code",
      "execution_count": 61,
      "metadata": {
        "id": "vt8AfbQAEVoe"
      },
      "outputs": [],
      "source": [
        "pip install -q -U google-generativeai"
      ]
    },
    {
      "cell_type": "code",
      "source": [
        "import google.generativeai as genai\n",
        "\n",
        "from google.colab import userdata\n",
        "chave = userdata.get(\"secrety_key\")\n",
        "GOOGLE_API_KEY= chave\n",
        "genai.configure(api_key=GOOGLE_API_KEY)"
      ],
      "metadata": {
        "id": "7emoq4aGGnjy"
      },
      "execution_count": 113,
      "outputs": []
    },
    {
      "cell_type": "code",
      "source": [
        "model = genai.GenerativeModel('gemini-pro')"
      ],
      "metadata": {
        "id": "ty0Meu5HIC4e"
      },
      "execution_count": 114,
      "outputs": []
    },
    {
      "cell_type": "code",
      "source": [
        "generation_config = {\n",
        "    \"candidate_count\": 1,\n",
        "    \"temperature\": 1,\n",
        "}"
      ],
      "metadata": {
        "id": "-Sa8WHZ3KzNY"
      },
      "execution_count": 115,
      "outputs": []
    },
    {
      "cell_type": "code",
      "source": [
        "model = genai.GenerativeModel(model_name=\"gemini-1.0-pro\",\n",
        "                              generation_config=generation_config)"
      ],
      "metadata": {
        "id": "bS5R0z9JMnR5"
      },
      "execution_count": 116,
      "outputs": []
    },
    {
      "cell_type": "code",
      "source": [
        "chat = model.start_chat(history=[])"
      ],
      "metadata": {
        "id": "r66kU2qcNrdL"
      },
      "execution_count": 117,
      "outputs": []
    },
    {
      "cell_type": "code",
      "source": [
        "\n",
        "\n",
        "print (\"Oi....😊, Vamos jogar tabuada\")\n",
        "print (\"obs.: Para encerrar basta digitar fim\", \"\\n\")\n",
        "tabuada = input(\"Qual tabuada vamos jogar: \")\n",
        "\n",
        "regras = \"Jogo referente a tabuada, do 0 ao 10. faça apenas a pergunta e eu respondo, se a resposta que eu informar estiver correta, diga uma palavra motivacional, parabenize e utilize emotion, e já mande uma nova pergunta até percorrer toda a tabuada de forma aleatória. vamos fazer com a tabuada do \"+tabuada +\". ao informe a quantidade de acertos e erros, e por ultimo pergunte se quer jogar outra tabuaba\"\n",
        "\n",
        "response = chat.send_message(regras)\n",
        "print (response.text)\n",
        "\n",
        "respostaAluno = input(\"Resposta: \")\n",
        "\n",
        "while respostaAluno != \"fim\" :\n",
        "  response = chat.send_message(respostaAluno)\n",
        "  print(response.text)\n",
        "  respostaAluno = input(\"Resposta: \")\n",
        ""
      ],
      "metadata": {
        "id": "oi19-BZvIPEb"
      },
      "execution_count": null,
      "outputs": []
    }
  ]
}